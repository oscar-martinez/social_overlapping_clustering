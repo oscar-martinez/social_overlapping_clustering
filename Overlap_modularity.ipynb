{
 "cells": [
  {
   "cell_type": "code",
   "execution_count": null,
   "metadata": {
    "collapsed": true
   },
   "outputs": [],
   "source": [
    "import numpy as np\n",
    "\n",
    "class overlap_modularity:\n",
    "    def __init__(self, graph,clusters):\n",
    "        self.graph=graph\n",
    "        self.clusters=clusters\n",
    "\n",
    "    def n_choose_k(self,n,k):\n",
    "        return math.factorial(n)/(math.factorial(n-k)*math.factorial(k))\n",
    "    def calculate_modularity(self):\n",
    "\n",
    "        clust_mod=np.zeros(len(self.clusters))\n",
    "\n",
    "        for ind,clust in enumerate(self.clusters):\n",
    "            edges_in_out=list(self.graph.edges(nbunch=clust))\n",
    "            nodes_in=dict.fromkeys(clust, 0)\n",
    "            nodes_out=dict.fromkeys(clust, 0)\n",
    "            n_cr_e=0\n",
    "            n_cr=len(clust)\n",
    "            for item in edges_in_out:\n",
    "                if item[0] in clust and item[1] in clust:\n",
    "                    nodes_in[item[0]]+=1\n",
    "                    nodes_in[item[1]]+=1\n",
    "                    n_cr_e+=1\n",
    "                else:\n",
    "                    nodes_out[item[0]]+=1\n",
    "\n",
    "            s_i=dict.fromkeys(clust, 0)\n",
    "            for comm in self.clusters:\n",
    "                for node in clust:\n",
    "                    if node in comm:\n",
    "                        s_i[node]+=1\n",
    "            nodes_out_arr = np.array(list(nodes_out.values()), dtype=int)\n",
    "            nodes_in_arr = np.array(list(nodes_in.values()), dtype=int)\n",
    "            s_i_arr = np.array(list(s_i.values()), dtype=int)\n",
    "            deg_i_arr = nodes_in_arr + nodes_out_arr\n",
    "\n",
    "            clust_mod[ind]=np.sum((nodes_in_arr-nodes_out_arr)/(s_i_arr*deg_i_arr))*n_cr_e/(n_cr*self.n_choose_k(n_cr,2))\n",
    "\n",
    "        return clust_mod"
   ]
  }
 ],
 "metadata": {
  "kernelspec": {
   "display_name": "Python 3",
   "language": "python",
   "name": "python3"
  },
  "language_info": {
   "codemirror_mode": {
    "name": "ipython",
    "version": 3
   },
   "file_extension": ".py",
   "mimetype": "text/x-python",
   "name": "python",
   "nbconvert_exporter": "python",
   "pygments_lexer": "ipython3",
   "version": "3.6.3"
  }
 },
 "nbformat": 4,
 "nbformat_minor": 2
}
